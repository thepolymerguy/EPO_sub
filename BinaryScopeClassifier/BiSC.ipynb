{
  "nbformat": 4,
  "nbformat_minor": 0,
  "metadata": {
    "colab": {
      "provenance": []
    },
    "kernelspec": {
      "name": "python3",
      "display_name": "Python 3"
    },
    "language_info": {
      "name": "python"
    },
    "accelerator": "GPU",
    "gpuClass": "standard"
  },
  "cells": [
    {
      "cell_type": "code",
      "source": [
        "import pandas as pd\n",
        "import numpy as np\n",
        "from sklearn.model_selection import train_test_split\n",
        "import tensorflow as tf\n",
        "from tensorflow.keras.layers.experimental.preprocessing import TextVectorization\n",
        "import tensorflow_hub as hub\n",
        "from sklearn.feature_extraction.text import TfidfVectorizer\n",
        "from sklearn.naive_bayes import MultinomialNB\n",
        "from sklearn.pipeline import Pipeline\n",
        "from sklearn.metrics import accuracy_score, precision_recall_fscore_support\n",
        "\n",
        "from google.colab import drive\n",
        "drive.mount('/content/drive')"
      ],
      "metadata": {
        "colab": {
          "base_uri": "https://localhost:8080/"
        },
        "id": "UIW1WGxAYnRy",
        "outputId": "0daff15d-8034-4552-e81d-47e55569ece1"
      },
      "execution_count": 2,
      "outputs": [
        {
          "output_type": "stream",
          "name": "stdout",
          "text": [
            "Mounted at /content/drive\n"
          ]
        }
      ]
    },
    {
      "cell_type": "code",
      "source": [
        "'''\n",
        "function to calculate accuracy, precision, recall and f1 (sklearn)\n",
        "y_test -> test labels, y_pred -> predicted labels\n",
        "'''\n",
        "def cal_accuray(y_test, y_pred):\n",
        "  acc = accuracy_score(y_test, y_pred) * 100\n",
        "  pres, recall, f1, _ = precision_recall_fscore_support(y_test, y_pred, average='weighted')\n",
        "\n",
        "  res = {'accuracy':acc, \n",
        "         'precision': pres, \n",
        "         'recall': recall, \n",
        "         'f1': f1}\n",
        "\n",
        "  return res\n",
        "\n",
        "'''\n",
        "load data set from paths to greencsv and notgreencsv\n",
        "'''\n",
        "def loaddata(greencsv, notgreencsv):\n",
        "  dfg = pd.read_csv(greencsv)\n",
        "  dfn = pd.read_csv(notgreencsv)\n",
        "  #shuffling dfn (as not all used in training dataset)\n",
        "  dfn = dfn.sample(frac=1, random_state=25)\n",
        "  #shuffling dfn\n",
        "  data = pd.concat([dfg, dfn[0:len(dfg)]])\n",
        "  data_shuff = data.sample(frac=1, random_state=25)\n",
        "  \n",
        "  return data_shuff\n",
        "\n",
        "data_shuff = loaddata('/content/drive/MyDrive/binary_model/GreenPatents_Dataset.csv', '/content/drive/MyDrive/binary_model/NotGreenPatents_Dataset.csv')\n",
        "data_shuff"
      ],
      "metadata": {
        "colab": {
          "base_uri": "https://localhost:8080/",
          "height": 424
        },
        "id": "AXMtM-IMhoer",
        "outputId": "eb6c6eec-15f2-4209-e6c8-71111720a860"
      },
      "execution_count": 3,
      "outputs": [
        {
          "output_type": "execute_result",
          "data": {
            "text/plain": [
              "                                                 Abstract  GreenV\n",
              "70933   utility model belongs technical field tea prod...       1\n",
              "46474   invention relates nitronatrite comprehensive u...       1\n",
              "194238  utility model discloses automobile used diesel...       0\n",
              "32305   invention discloses treatment method extractin...       1\n",
              "65748   utility model discloses kind degradable food p...       1\n",
              "...                                                   ...     ...\n",
              "84844   gasification process divided three processes f...       0\n",
              "12852   collapsible umbrella resilient rib tensioning ...       0\n",
              "6618    packing method machine producing sealed packag...       1\n",
              "107563  purpose opentype guardrail made timber metal p...       0\n",
              "29828   provide method apparatus removing radioactive ...       1\n",
              "\n",
              "[149406 rows x 2 columns]"
            ],
            "text/html": [
              "\n",
              "  <div id=\"df-53498a95-cdd6-46ea-a271-ed1b118c5d99\">\n",
              "    <div class=\"colab-df-container\">\n",
              "      <div>\n",
              "<style scoped>\n",
              "    .dataframe tbody tr th:only-of-type {\n",
              "        vertical-align: middle;\n",
              "    }\n",
              "\n",
              "    .dataframe tbody tr th {\n",
              "        vertical-align: top;\n",
              "    }\n",
              "\n",
              "    .dataframe thead th {\n",
              "        text-align: right;\n",
              "    }\n",
              "</style>\n",
              "<table border=\"1\" class=\"dataframe\">\n",
              "  <thead>\n",
              "    <tr style=\"text-align: right;\">\n",
              "      <th></th>\n",
              "      <th>Abstract</th>\n",
              "      <th>GreenV</th>\n",
              "    </tr>\n",
              "  </thead>\n",
              "  <tbody>\n",
              "    <tr>\n",
              "      <th>70933</th>\n",
              "      <td>utility model belongs technical field tea prod...</td>\n",
              "      <td>1</td>\n",
              "    </tr>\n",
              "    <tr>\n",
              "      <th>46474</th>\n",
              "      <td>invention relates nitronatrite comprehensive u...</td>\n",
              "      <td>1</td>\n",
              "    </tr>\n",
              "    <tr>\n",
              "      <th>194238</th>\n",
              "      <td>utility model discloses automobile used diesel...</td>\n",
              "      <td>0</td>\n",
              "    </tr>\n",
              "    <tr>\n",
              "      <th>32305</th>\n",
              "      <td>invention discloses treatment method extractin...</td>\n",
              "      <td>1</td>\n",
              "    </tr>\n",
              "    <tr>\n",
              "      <th>65748</th>\n",
              "      <td>utility model discloses kind degradable food p...</td>\n",
              "      <td>1</td>\n",
              "    </tr>\n",
              "    <tr>\n",
              "      <th>...</th>\n",
              "      <td>...</td>\n",
              "      <td>...</td>\n",
              "    </tr>\n",
              "    <tr>\n",
              "      <th>84844</th>\n",
              "      <td>gasification process divided three processes f...</td>\n",
              "      <td>0</td>\n",
              "    </tr>\n",
              "    <tr>\n",
              "      <th>12852</th>\n",
              "      <td>collapsible umbrella resilient rib tensioning ...</td>\n",
              "      <td>0</td>\n",
              "    </tr>\n",
              "    <tr>\n",
              "      <th>6618</th>\n",
              "      <td>packing method machine producing sealed packag...</td>\n",
              "      <td>1</td>\n",
              "    </tr>\n",
              "    <tr>\n",
              "      <th>107563</th>\n",
              "      <td>purpose opentype guardrail made timber metal p...</td>\n",
              "      <td>0</td>\n",
              "    </tr>\n",
              "    <tr>\n",
              "      <th>29828</th>\n",
              "      <td>provide method apparatus removing radioactive ...</td>\n",
              "      <td>1</td>\n",
              "    </tr>\n",
              "  </tbody>\n",
              "</table>\n",
              "<p>149406 rows × 2 columns</p>\n",
              "</div>\n",
              "      <button class=\"colab-df-convert\" onclick=\"convertToInteractive('df-53498a95-cdd6-46ea-a271-ed1b118c5d99')\"\n",
              "              title=\"Convert this dataframe to an interactive table.\"\n",
              "              style=\"display:none;\">\n",
              "        \n",
              "  <svg xmlns=\"http://www.w3.org/2000/svg\" height=\"24px\"viewBox=\"0 0 24 24\"\n",
              "       width=\"24px\">\n",
              "    <path d=\"M0 0h24v24H0V0z\" fill=\"none\"/>\n",
              "    <path d=\"M18.56 5.44l.94 2.06.94-2.06 2.06-.94-2.06-.94-.94-2.06-.94 2.06-2.06.94zm-11 1L8.5 8.5l.94-2.06 2.06-.94-2.06-.94L8.5 2.5l-.94 2.06-2.06.94zm10 10l.94 2.06.94-2.06 2.06-.94-2.06-.94-.94-2.06-.94 2.06-2.06.94z\"/><path d=\"M17.41 7.96l-1.37-1.37c-.4-.4-.92-.59-1.43-.59-.52 0-1.04.2-1.43.59L10.3 9.45l-7.72 7.72c-.78.78-.78 2.05 0 2.83L4 21.41c.39.39.9.59 1.41.59.51 0 1.02-.2 1.41-.59l7.78-7.78 2.81-2.81c.8-.78.8-2.07 0-2.86zM5.41 20L4 18.59l7.72-7.72 1.47 1.35L5.41 20z\"/>\n",
              "  </svg>\n",
              "      </button>\n",
              "      \n",
              "  <style>\n",
              "    .colab-df-container {\n",
              "      display:flex;\n",
              "      flex-wrap:wrap;\n",
              "      gap: 12px;\n",
              "    }\n",
              "\n",
              "    .colab-df-convert {\n",
              "      background-color: #E8F0FE;\n",
              "      border: none;\n",
              "      border-radius: 50%;\n",
              "      cursor: pointer;\n",
              "      display: none;\n",
              "      fill: #1967D2;\n",
              "      height: 32px;\n",
              "      padding: 0 0 0 0;\n",
              "      width: 32px;\n",
              "    }\n",
              "\n",
              "    .colab-df-convert:hover {\n",
              "      background-color: #E2EBFA;\n",
              "      box-shadow: 0px 1px 2px rgba(60, 64, 67, 0.3), 0px 1px 3px 1px rgba(60, 64, 67, 0.15);\n",
              "      fill: #174EA6;\n",
              "    }\n",
              "\n",
              "    [theme=dark] .colab-df-convert {\n",
              "      background-color: #3B4455;\n",
              "      fill: #D2E3FC;\n",
              "    }\n",
              "\n",
              "    [theme=dark] .colab-df-convert:hover {\n",
              "      background-color: #434B5C;\n",
              "      box-shadow: 0px 1px 3px 1px rgba(0, 0, 0, 0.15);\n",
              "      filter: drop-shadow(0px 1px 2px rgba(0, 0, 0, 0.3));\n",
              "      fill: #FFFFFF;\n",
              "    }\n",
              "  </style>\n",
              "\n",
              "      <script>\n",
              "        const buttonEl =\n",
              "          document.querySelector('#df-53498a95-cdd6-46ea-a271-ed1b118c5d99 button.colab-df-convert');\n",
              "        buttonEl.style.display =\n",
              "          google.colab.kernel.accessAllowed ? 'block' : 'none';\n",
              "\n",
              "        async function convertToInteractive(key) {\n",
              "          const element = document.querySelector('#df-53498a95-cdd6-46ea-a271-ed1b118c5d99');\n",
              "          const dataTable =\n",
              "            await google.colab.kernel.invokeFunction('convertToInteractive',\n",
              "                                                     [key], {});\n",
              "          if (!dataTable) return;\n",
              "\n",
              "          const docLinkHtml = 'Like what you see? Visit the ' +\n",
              "            '<a target=\"_blank\" href=https://colab.research.google.com/notebooks/data_table.ipynb>data table notebook</a>'\n",
              "            + ' to learn more about interactive tables.';\n",
              "          element.innerHTML = '';\n",
              "          dataTable['output_type'] = 'display_data';\n",
              "          await google.colab.output.renderOutput(dataTable, element);\n",
              "          const docLink = document.createElement('div');\n",
              "          docLink.innerHTML = docLinkHtml;\n",
              "          element.appendChild(docLink);\n",
              "        }\n",
              "      </script>\n",
              "    </div>\n",
              "  </div>\n",
              "  "
            ]
          },
          "metadata": {},
          "execution_count": 3
        }
      ]
    },
    {
      "cell_type": "code",
      "source": [
        "train_sent, test_sent, train_lab, test_lab = train_test_split(data_shuff[\"Abstract\"].to_numpy(),\n",
        "                                                              data_shuff[\"GreenV\"].to_numpy(),\n",
        "                                                              test_size=0.1, # 10% of sample in test dataset\n",
        "                                                              random_state=25)\n",
        "#make sure type = string & as numpy array\n",
        "train_sent = [str(x) for x in train_sent]\n",
        "test_sent = [str(x) for x in test_sent]\n",
        "train_sent = np.array(train_sent)\n",
        "test_sent = np.array(test_sent)\n",
        "\n",
        "#average length for word in sentence\n",
        "def max_lengthval(X_train):\n",
        "  avlength = round(sum([len(str(i).split()) for i in X_train])/len(X_train))\n",
        "  return avlength\n",
        "\n",
        "#evaluates model\n",
        "def evaluate_model(model, X_test, y_test):\n",
        "  model.evaluate(X_test, y_test)\n",
        "  model_pred = tf.squeeze(tf.round(model.predict(X_test)))\n",
        "  result = cal_accuray(y_test, model_pred)\n",
        "  print(result)\n",
        "  return result"
      ],
      "metadata": {
        "id": "g0GNzBhHcC7T"
      },
      "execution_count": 4,
      "outputs": []
    },
    {
      "cell_type": "code",
      "source": [
        "'''\n",
        "Baseline model:\n",
        "\n",
        "Sk-learn baseline model, bayes\n",
        "Using TFID to vectorise words \n",
        "'''\n",
        "# create vectorisation and model\n",
        "model_base = Pipeline([\n",
        "    (\"tfid\", TfidfVectorizer()), # vectorizer\n",
        "    (\"clf\", MultinomialNB()) # model\n",
        "])\n",
        "\n",
        "model_base.fit(train_sent, train_lab)\n",
        "\n",
        "model_pred = model_base.predict(test_sent)\n",
        "result_b = cal_accuray(test_lab, model_pred)\n",
        "print(result_b)"
      ],
      "metadata": {
        "colab": {
          "base_uri": "https://localhost:8080/"
        },
        "id": "Z4Q59gpCV54f",
        "outputId": "5bb73e7c-2316-4d86-c0a6-58cb94fde497"
      },
      "execution_count": 5,
      "outputs": [
        {
          "output_type": "stream",
          "name": "stdout",
          "text": [
            "{'accuracy': 81.31316511612341, 'precision': 0.8152673070170774, 'recall': 0.8131316511612342, 'f1': 0.812926529411121}\n"
          ]
        }
      ]
    },
    {
      "cell_type": "code",
      "source": [
        "'''\n",
        "Model 1: simple dense model\n",
        "Using Keras functional API (more flexible than sequential but can also use)\n",
        "String (abstract) is tokenised and embedding vector is created.\n",
        "'''\n",
        "max_vocab_length = 10000 \n",
        "# max number of words in our vocabulary - 10k words works well\n",
        "# more vocabs and model performance decreases\n",
        "max_length = max_lengthval(test_sent)\n",
        "\n",
        "def create_densemodel(X_train, max_vocab_length, max_length):\n",
        "  text_vectorizer = TextVectorization(max_tokens=max_vocab_length,\n",
        "                                      output_mode=\"int\",\n",
        "                                      output_sequence_length=max_length)\n",
        "\n",
        "  text_vectorizer.adapt(train_sent)\n",
        "\n",
        "  embedding = tf.keras.layers.Embedding(input_dim=max_vocab_length, # set input shape\n",
        "                              output_dim=128, # set size of embedding vector # more info gets encoded\n",
        "                              embeddings_initializer=\"uniform\", # default, intialize randomly\n",
        "                              input_length=max_length, \n",
        "                              name=\"embedding_1\") \n",
        "\n",
        "  inputs = tf.keras.layers.Input(shape=(1,), dtype=\"string\") # inputs are 1-dimensional strings\n",
        "  x = text_vectorizer(inputs) # tokenise imputs\n",
        "  x = embedding(x) # create embedding from tokenised inputs\n",
        "  x = tf.keras.layers.GlobalAveragePooling1D()(x) # reduces dimension of embedding -> quicker computation\n",
        "  outputs = tf.keras.layers.Dense(1, activation=\"sigmoid\")(x) # binary outputs, so sigmoid activation\n",
        "  model = tf.keras.Model(inputs, outputs, name=\"model_dense\") # make model\n",
        "  return model\n",
        "\n",
        "model_1 = create_densemodel(test_sent, max_vocab_length, max_length)\n",
        "\n",
        "model_1.compile(loss=\"binary_crossentropy\",\n",
        "                optimizer=tf.keras.optimizers.Adam(),\n",
        "                metrics=[\"accuracy\"])\n",
        "\n",
        "\n",
        "model_1_history = model_1.fit(train_sent, \n",
        "                              train_lab,\n",
        "                              epochs=5, #5 epochs works well to train model\n",
        "                              validation_data=(test_sent, test_lab))\n"
      ],
      "metadata": {
        "colab": {
          "base_uri": "https://localhost:8080/"
        },
        "id": "71v6mkRSvd1b",
        "outputId": "2c345b71-3252-4a77-9c3c-0931039008ba"
      },
      "execution_count": 6,
      "outputs": [
        {
          "output_type": "stream",
          "name": "stdout",
          "text": [
            "Epoch 1/5\n",
            "4203/4203 [==============================] - 25s 5ms/step - loss: 0.3535 - accuracy: 0.8445 - val_loss: 0.3192 - val_accuracy: 0.8567\n",
            "Epoch 2/5\n",
            "4203/4203 [==============================] - 22s 5ms/step - loss: 0.2955 - accuracy: 0.8721 - val_loss: 0.3213 - val_accuracy: 0.8550\n",
            "Epoch 3/5\n",
            "4203/4203 [==============================] - 22s 5ms/step - loss: 0.2865 - accuracy: 0.8768 - val_loss: 0.3229 - val_accuracy: 0.8553\n",
            "Epoch 4/5\n",
            "4203/4203 [==============================] - 22s 5ms/step - loss: 0.2821 - accuracy: 0.8791 - val_loss: 0.3240 - val_accuracy: 0.8548\n",
            "Epoch 5/5\n",
            "4203/4203 [==============================] - 22s 5ms/step - loss: 0.2792 - accuracy: 0.8803 - val_loss: 0.3280 - val_accuracy: 0.8544\n"
          ]
        }
      ]
    },
    {
      "cell_type": "code",
      "source": [
        "'''\n",
        "Model 2: Transfer learning model using universal sentence encoder with pretrained weights\n",
        "'''\n",
        "\n",
        "USE = 'https://tfhub.dev/google/universal-sentence-encoder/4'\n",
        "def create_transfermodel(USE):\n",
        "  sentence_embedder_layer = hub.KerasLayer(USE, \n",
        "                                          input_shape = [],\n",
        "                                          dtype = tf.string, \n",
        "                                          trainable = False, #keep pretrained weights\n",
        "                                          name = 'USE')\n",
        "  # build sequential model with sent embedder layer\n",
        "  model = tf.keras.Sequential([\n",
        "      sentence_embedder_layer, \n",
        "      tf.keras.layers.Dense(100, activation='relu'), \n",
        "      #100 works well, giving slight improvement over 64, more layers do not significantly improve the model\n",
        "      tf.keras.layers.Dense(1, activation='sigmoid')], #binary so sigmoid output\n",
        "      name = 'model')\n",
        "  return model\n",
        "\n",
        "model_2 = create_transfermodel(USE)\n",
        "# compile model\n",
        "model_2.compile(loss='binary_crossentropy', \n",
        "              optimizer=tf.keras.optimizers.Adam(), \n",
        "              metrics = ['accuracy'])\n",
        "# fit model\n",
        "model2_hist = model_2.fit(train_sent, train_lab, epochs=5,\n",
        "                       validation_data=(test_sent, test_lab)\n",
        "                       )\n",
        "# again here 5 epochs enough for > 80% accuracy\n"
      ],
      "metadata": {
        "colab": {
          "base_uri": "https://localhost:8080/"
        },
        "id": "sDFHpxlye2l8",
        "outputId": "7548a4ca-4d10-4074-9716-b856da95ab6c"
      },
      "execution_count": 7,
      "outputs": [
        {
          "output_type": "stream",
          "name": "stdout",
          "text": [
            "Epoch 1/5\n",
            "4203/4203 [==============================] - 79s 18ms/step - loss: 0.4048 - accuracy: 0.8125 - val_loss: 0.3732 - val_accuracy: 0.8318\n",
            "Epoch 2/5\n",
            "4203/4203 [==============================] - 69s 16ms/step - loss: 0.3605 - accuracy: 0.8369 - val_loss: 0.3577 - val_accuracy: 0.8388\n",
            "Epoch 3/5\n",
            "4203/4203 [==============================] - 68s 16ms/step - loss: 0.3437 - accuracy: 0.8458 - val_loss: 0.3505 - val_accuracy: 0.8434\n",
            "Epoch 4/5\n",
            "4203/4203 [==============================] - 66s 16ms/step - loss: 0.3313 - accuracy: 0.8520 - val_loss: 0.3455 - val_accuracy: 0.8474\n",
            "Epoch 5/5\n",
            "4203/4203 [==============================] - 71s 17ms/step - loss: 0.3216 - accuracy: 0.8570 - val_loss: 0.3477 - val_accuracy: 0.8413\n"
          ]
        }
      ]
    },
    {
      "cell_type": "code",
      "source": [
        "\"\"\"\n",
        "Same as file 'AbstractCleaner_gendataset.py' but just with single abtract inputs\n",
        "\"\"\"\n",
        "\n",
        "import nltk\n",
        "nltk.download('stopwords')\n",
        "nltk.download('punkt')\n",
        "from nltk.tokenize import word_tokenize\n",
        "from nltk.corpus import stopwords\n",
        "\n",
        "def clean_abst(sent):\n",
        "  all_stopwords = stopwords.words('english') #Making sure to only use English stopwords\n",
        "  extra_stopwords = ['ii', 'iii', 'the']\n",
        "  all_stopwords.extend(extra_stopwords)\n",
        "\n",
        "  sent = sent.split()\n",
        "  sent = [x.strip() for x in sent]\n",
        "  removechars = ['[', ']', '{', '}', ';', '(', ')', ',', '.', ':', '/', '-', '#', '?', '@', '£', '$']\n",
        "  for char in removechars:\n",
        "      sent = list(map(lambda x: x.replace(char, ''), sent))\n",
        "\n",
        "  sent = [x.lower() for x in sent]\n",
        "  sent = [word for word in sent if word not in all_stopwords]\n",
        "  sent = list(dict.fromkeys(sent))\n",
        "  wonum = []\n",
        "  for x in sent:\n",
        "      xv = list(x)\n",
        "      xv = [i.isnumeric() for i in xv]\n",
        "      if True in xv:\n",
        "          continue\n",
        "      else:\n",
        "          wonum.append(x)\n",
        "  cleansent = ' '.join(wonum)\n",
        "\n",
        "  return cleansent\n",
        "\n",
        "'''\n",
        "To predict whether patent is about green plastics or not using input abstract\n",
        "'''\n",
        "def predict_green(abst, model):\n",
        "  abst = clean_abst(abst)\n",
        "  model_pred = model.predict([abst])\n",
        "  greenprob = model_pred[0]\n",
        "  #print(greenprob)\n",
        "  if greenprob <= 0.2:\n",
        "    gV = 0\n",
        "    print('Patent is not about green plastics')\n",
        "  elif greenprob > 0.2 and greenprob <= 0.5:\n",
        "    gV = 0\n",
        "    print('Patent is likely not about green plastics')\n",
        "  elif greenprob > 0.5 and greenprob <=0.75:\n",
        "    gV = 0.5\n",
        "    print('Not clear from abstract whether or not patent is about green plastics')\n",
        "  elif greenprob > 0.75 and greenprob <=0.95:\n",
        "    gV = 1\n",
        "    print('Patent is likely about green plastics or either is about \"green\" or \"plastics\"')\n",
        "  elif greenprob > 0.95:\n",
        "    gV = 1\n",
        "    print('Patent is about green plastics')\n",
        "  return gV\n"
      ],
      "metadata": {
        "colab": {
          "base_uri": "https://localhost:8080/"
        },
        "id": "s21KmMxRv3Fx",
        "outputId": "422f91fc-47f0-41b3-ea07-5dfa8b1a4910"
      },
      "execution_count": 8,
      "outputs": [
        {
          "output_type": "stream",
          "name": "stderr",
          "text": [
            "[nltk_data] Downloading package stopwords to /root/nltk_data...\n",
            "[nltk_data]   Unzipping corpora/stopwords.zip.\n",
            "[nltk_data] Downloading package punkt to /root/nltk_data...\n",
            "[nltk_data]   Unzipping tokenizers/punkt.zip.\n"
          ]
        }
      ]
    },
    {
      "cell_type": "code",
      "source": [
        "result_1 = evaluate_model(model_1, test_sent, test_lab)"
      ],
      "metadata": {
        "colab": {
          "base_uri": "https://localhost:8080/"
        },
        "id": "AvfUjP-yvHbb",
        "outputId": "cc803be9-d379-4296-cf7e-c78e95dc473b"
      },
      "execution_count": 9,
      "outputs": [
        {
          "output_type": "stream",
          "name": "stdout",
          "text": [
            "467/467 [==============================] - 1s 3ms/step - loss: 0.3280 - accuracy: 0.8544\n",
            "467/467 [==============================] - 1s 2ms/step\n",
            "{'accuracy': 85.44274144970217, 'precision': 0.8554617393968962, 'recall': 0.8544274144970216, 'f1': 0.8542635291093457}\n"
          ]
        }
      ]
    },
    {
      "cell_type": "code",
      "source": [
        "result_2 = evaluate_model(model_2, test_sent, test_lab)"
      ],
      "metadata": {
        "colab": {
          "base_uri": "https://localhost:8080/"
        },
        "id": "krnPEOzTvFFZ",
        "outputId": "d6a75bd2-7757-48bb-cc93-47542aaa4fe0"
      },
      "execution_count": 10,
      "outputs": [
        {
          "output_type": "stream",
          "name": "stdout",
          "text": [
            "467/467 [==============================] - 6s 13ms/step - loss: 0.3477 - accuracy: 0.8413\n",
            "467/467 [==============================] - 6s 12ms/step\n",
            "{'accuracy': 84.13091493206612, 'precision': 0.8416512267850041, 'recall': 0.8413091493206613, 'f1': 0.8413026703649261}\n"
          ]
        }
      ]
    },
    {
      "cell_type": "code",
      "source": [
        "all_results = pd.DataFrame({\"Baseline\": result_b, \n",
        "                            \"Dense\": result_1, \n",
        "                            \"Transfer Learning\": result_2})\n",
        "all_results = all_results.transpose()    \n",
        "all_results[\"accuracy\"] = all_results[\"accuracy\"]/100                  "
      ],
      "metadata": {
        "id": "qpvhwpDLYg84"
      },
      "execution_count": 11,
      "outputs": []
    },
    {
      "cell_type": "code",
      "source": [
        "import matplotlib\n",
        "from matplotlib import pyplot as plt\n",
        "all_results.plot(kind=\"bar\", figsize=(6, 4), color=['#0081B4', '#EFA3C8', '#3C6255', '#FBC252'])\n",
        "plt.legend(bbox_to_anchor=(1.0, 1.0))\n",
        "plt.xticks(rotation=0, horizontalalignment=\"center\")\n",
        "plt.title(\"Model performace evaluation\")\n",
        "plt.ylim(0, 1)\n",
        "plt.tight_layout()\n",
        "plt.savefig('/content/drive/MyDrive/binary_model/model_comp_eval.png', dpi=300, transparent=True)\n"
      ],
      "metadata": {
        "colab": {
          "base_uri": "https://localhost:8080/",
          "height": 297
        },
        "id": "gC1awTCAaBOH",
        "outputId": "ad60119e-2ad9-404f-f101-10c327e93dbc"
      },
      "execution_count": 16,
      "outputs": [
        {
          "output_type": "display_data",
          "data": {
            "text/plain": [
              "<Figure size 432x288 with 1 Axes>"
            ],
            "image/png": "[encoded data removed]"
          },
          "metadata": {
            "needs_background": "light"
          }
        }
      ]
    },
    {
      "cell_type": "markdown",
      "source": [
        "### Testing 8 random abstracts to evaluate how well binary models work to classify patent as relating to green plastics or not."
      ],
      "metadata": {
        "id": "lFUeShk4cTTg"
      }
    },
    {
      "cell_type": "code",
      "source": [
        "abst1 = 'Shipping container comprises unitary sheet providing set external wall portions internal including first portion folded enclose volume v wherein surrounds arrangeable arrangement bounds least part second partitions define subvolumes subvolume optionally arranged move folding'\n",
        "gV = predict_green(abst1, model_1)\n",
        "gV = predict_green(abst1, model_2)"
      ],
      "metadata": {
        "colab": {
          "base_uri": "https://localhost:8080/"
        },
        "id": "BnRkKckLu2C7",
        "outputId": "09f8660f-f526-4a45-b4af-2fd77c26afc0"
      },
      "execution_count": 53,
      "outputs": [
        {
          "output_type": "stream",
          "name": "stdout",
          "text": [
            "1/1 [==============================] - 0s 33ms/step\n",
            "Not clear from abstract whether or not patent is about green plastics\n",
            "1/1 [==============================] - 0s 49ms/step\n",
            "Patent is likely not about green plastics\n"
          ]
        }
      ]
    },
    {
      "cell_type": "code",
      "source": [
        "abst2 = 'Described herein are strength characteristics and biodegradation of articles produced using one or more “green” sustainable polymers and one or more carbohydrate-based polymers. A compatibilizer can optionally be included in the article. In some cases, the article can include a film, a bag, a bottle, a cap or lid therefore, a sheet, a box or other container, a plate, a cup, utensils, or the like.'\n",
        "gV = predict_green(abst2, model_1)\n",
        "gV = predict_green(abst2, model_2)"
      ],
      "metadata": {
        "colab": {
          "base_uri": "https://localhost:8080/"
        },
        "id": "igBbo6FnqGdA",
        "outputId": "de2ca28e-c102-4049-c569-cf11ebefaa0a"
      },
      "execution_count": 54,
      "outputs": [
        {
          "output_type": "stream",
          "name": "stdout",
          "text": [
            "1/1 [==============================] - 0s 32ms/step\n",
            "Patent is about green plastics\n",
            "1/1 [==============================] - 0s 36ms/step\n",
            "Patent is about green plastics\n"
          ]
        }
      ]
    },
    {
      "cell_type": "code",
      "source": [
        "abst3 = 'A method of delivering a scalp cleansing composition to the scalp and a conditioning shampoo composition to the rest of the hair directed to: Applying a scalp cleansing composition directly onto the scalp using an applicator wherein the scalp cleansing composition comprises a sensate; Applying a conditioning shampoo composition on the length and ends of the hair, where length is defined as the hair starting below the root line at the back of the neck/base of the head and the ends are defined as the 4 cm of the hair furthest away from the scalp; wherein % increase scalp deposition is 10%.'\n",
        "gV = predict_green(abst3, model_1)\n",
        "gV = predict_green(abst3, model_2)"
      ],
      "metadata": {
        "colab": {
          "base_uri": "https://localhost:8080/"
        },
        "id": "SGjSyH5YwUWL",
        "outputId": "dfb1707b-f68e-4d3b-9734-7621a34e95e6"
      },
      "execution_count": 55,
      "outputs": [
        {
          "output_type": "stream",
          "name": "stdout",
          "text": [
            "1/1 [==============================] - 0s 31ms/step\n",
            "Patent is not about green plastics\n",
            "1/1 [==============================] - 0s 40ms/step\n",
            "Patent is likely not about green plastics\n"
          ]
        }
      ]
    },
    {
      "cell_type": "code",
      "source": [
        "abst4 = 'Composite blends of polyester containing plastic materials, and a starch-based polymeric material that increases the biodegradability of the polyesters of such a composite in simulated or actual marine conditions (e.g., simulated by ASTM D-6691). Enhanced rate or extent of biodegradation may also be exhibited in simulated or actual land-based disposal conditions. The starch-based polymeric materials are substantially amorphous, and are homogenously blended with the polyester plastic materials. While polyester plastics such as PBAT, PLA, PCL, and/or PBS may exhibit some biodegradability characteristics when composted and/or disposed of in landfill conditions at elevated temperatures, they exhibit limited if any biodegradability when disposed of in a marine environment. Even conventional blends of starch with such polyesters do not exhibit any significant marine biodegradability with respect to the polyester components therein. Third party testing shows the present blends exhibit substantially complete biodegradability of the entire composite under marine conditions, after about 400 days.'\n",
        "gV = predict_green(abst4, model_1)\n",
        "gV = predict_green(abst4, model_2)"
      ],
      "metadata": {
        "colab": {
          "base_uri": "https://localhost:8080/"
        },
        "id": "xywSa7GGxDck",
        "outputId": "acc6e24e-d704-46a6-ed58-a6747153d1c4"
      },
      "execution_count": 56,
      "outputs": [
        {
          "output_type": "stream",
          "name": "stdout",
          "text": [
            "1/1 [==============================] - 0s 34ms/step\n",
            "Patent is about green plastics\n",
            "1/1 [==============================] - 0s 40ms/step\n",
            "Patent is about green plastics\n"
          ]
        }
      ]
    },
    {
      "cell_type": "code",
      "source": [
        "abst5 = 'The invention relates to a pyrolysis plant and a process for recovering (recycling) carbon fibers from carbon fiber-containing plastics, in particular from carbon fiber-reinforced plastics (CFPs or CFP materials), preferably from carbon fiber-containing and/or carbon fiber-reinforced composites (composite materials).'\n",
        "gV = predict_green(abst5, model_1)\n",
        "gV = predict_green(abst5, model_2)"
      ],
      "metadata": {
        "colab": {
          "base_uri": "https://localhost:8080/"
        },
        "id": "oiQCwmFXxR9H",
        "outputId": "70d03162-1fc5-4a8e-bba1-3e7d8e9f1796"
      },
      "execution_count": 57,
      "outputs": [
        {
          "output_type": "stream",
          "name": "stdout",
          "text": [
            "1/1 [==============================] - 0s 37ms/step\n",
            "Patent is about green plastics\n",
            "1/1 [==============================] - 0s 36ms/step\n",
            "Patent is about green plastics\n"
          ]
        }
      ]
    },
    {
      "cell_type": "code",
      "source": [
        "abst6 = 'The present invention relates to a preparation method or a processing method for fruit food, particularly to fruit with ice cream stuff and a manufacture method thereof. The fruit of the present invention maintains the original fruit flavor, taste and shape, and has the ice cream flavor. The fruit of the present invention comprises the fruit and ice cream, wherein cavities are arranged in the fruit, and the ice cream is filled in the cavities arranged in the fruit. During the processing, first, the fruit carries out the processing of cleaning and disinfecting, the cavities are made in the fruit, and the ice cream is filled in the cavities of the fruit. The present invention provides novel fruit freezing mixed food for public, and the novel fruit freezing mixed food maintains the original flavor of various kinds of fruit (such as cherries, litchi, longan (longan), loquat, apricots, plum, peaches, grape, strawberries, bananas, etc.) and melons (such as watermelons, muskmelons, chaenomeles fruit, hami melons, etc.) and has the flavor of the ice cream.'\n",
        "gV = predict_green(abst6, model_1)\n",
        "gV = predict_green(abst6, model_2)"
      ],
      "metadata": {
        "colab": {
          "base_uri": "https://localhost:8080/"
        },
        "id": "uqhwERQsxgDU",
        "outputId": "03d222d7-509a-42c6-9c05-5bd9a971ebd3"
      },
      "execution_count": 58,
      "outputs": [
        {
          "output_type": "stream",
          "name": "stdout",
          "text": [
            "1/1 [==============================] - 0s 32ms/step\n",
            "Patent is not about green plastics\n",
            "1/1 [==============================] - 0s 37ms/step\n",
            "Patent is not about green plastics\n"
          ]
        }
      ]
    },
    {
      "cell_type": "code",
      "source": [
        "abst7 = 'GREENHOUSE GAS GRID AND TRACKING SYSTEM OF DISCLOSURE A method and computer system for reporting on a target greenhouse gas within a geographical boundary of an offset project by compiling policy parameters for the target greenhouse gas and generating a science plan for monitoring the target greenhouse gas for the target geographical boundary of the offset project, based upon the compiled policy parameters. An allometric model for the target greenhouse gas within the geographical boundary of the offset project is generated based upon the science plan of the target greenhouse gas for the geographic boundary, and a report for the target greenhouse gas within the target geographical boundary of the offset project is generated based upon the allometric model.'\n",
        "gV = predict_green(abst7, model_1)\n",
        "gV = predict_green(abst7, model_2)"
      ],
      "metadata": {
        "colab": {
          "base_uri": "https://localhost:8080/"
        },
        "id": "JU9L1oKOxoRq",
        "outputId": "6bd22006-f675-4a67-e472-f49eee7e5628"
      },
      "execution_count": 59,
      "outputs": [
        {
          "output_type": "stream",
          "name": "stdout",
          "text": [
            "1/1 [==============================] - 0s 33ms/step\n",
            "Patent is likely about green plastics or either is about \"green\" or \"plastics\"\n",
            "1/1 [==============================] - 0s 38ms/step\n",
            "Not clear from abstract whether or not patent is about green plastics\n"
          ]
        }
      ]
    },
    {
      "cell_type": "code",
      "source": [
        "abst8 = \"Disclosed herein are a system and method that integrate vineyard sensor data into an environment that enables analysis, historical trend analytics, spatio-temporal analytics, and weather model fusion for improved decision making from vineyard management to wine production. The integration of new sensor data from multiple soil depths with surface measurements, combined with production flow process and historical information enables new decision making capabilities. A wireless network of sensor/transmitters can be distributed to provide a 3-dimensional assessment of water movement both across the grower's field and as it moves from the surface through the root zone. The soil monitoring data stream feeds into a visualization interface that will be incorporated in software based decision aid and crop management tool that helps agricultural producers reduce costs, minimize water and nutrient applications, and better protect the environment by reducing agricultural production inputs.\"\n",
        "gV = predict_green(abst8, model_1)\n",
        "gV = predict_green(abst8, model_2)"
      ],
      "metadata": {
        "colab": {
          "base_uri": "https://localhost:8080/"
        },
        "id": "M5HVRw5PzDZy",
        "outputId": "4c962a92-d119-49e2-bbe4-e3afe5b94d85"
      },
      "execution_count": 60,
      "outputs": [
        {
          "output_type": "stream",
          "name": "stdout",
          "text": [
            "1/1 [==============================] - 0s 35ms/step\n",
            "Patent is likely about green plastics or either is about \"green\" or \"plastics\"\n",
            "1/1 [==============================] - 0s 38ms/step\n",
            "Patent is likely about green plastics or either is about \"green\" or \"plastics\"\n"
          ]
        }
      ]
    },
    {
      "cell_type": "code",
      "source": [
        "model_1.save_weights(\"/content/drive/MyDrive/binary_model/model1.h5\")\n",
        "model_2.save_weights(\"/content/drive/MyDrive/binary_model/model2.h5\")"
      ],
      "metadata": {
        "id": "41cjA54g8lXt"
      },
      "execution_count": null,
      "outputs": []
    },
    {
      "cell_type": "code",
      "source": [
        "model_1.save(\"/content/drive/MyDrive/binary_model/densemodel\")"
      ],
      "metadata": {
        "id": "vuDsb1QM-78v"
      },
      "execution_count": 13,
      "outputs": []
    },
    {
      "cell_type": "code",
      "source": [
        "model_2.save(\"/content/drive/MyDrive/binary_model/transferlearning_model.h5\")\n",
        "# need to be loaded with custom_objects={\"KerasLayer\": hub.KerasLayer}"
      ],
      "metadata": {
        "id": "Eap2-PStdmqS"
      },
      "execution_count": 64,
      "outputs": []
    }
  ]
}